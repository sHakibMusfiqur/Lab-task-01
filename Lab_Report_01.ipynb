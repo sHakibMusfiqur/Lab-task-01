{
  "nbformat": 4,
  "nbformat_minor": 0,
  "metadata": {
    "colab": {
      "provenance": []
    },
    "kernelspec": {
      "name": "python3",
      "display_name": "Python 3"
    },
    "language_info": {
      "name": "python"
    }
  },
  "cells": [
    {
      "cell_type": "code",
      "execution_count": null,
      "metadata": {
        "colab": {
          "base_uri": "https://localhost:8080/"
        },
        "id": "vLtFgOwuuVpo",
        "outputId": "eaec3bad-915a-4aef-cbe9-d21b23ec65ad"
      },
      "outputs": [
        {
          "output_type": "stream",
          "name": "stdout",
          "text": [
            "Hello Phython\n"
          ]
        }
      ],
      "source": [
        "#1.print \"Hello Python\"\n",
        "\n",
        "print(\"Hello Phython\")"
      ]
    },
    {
      "cell_type": "code",
      "source": [
        "#2. arithmetic operations\n",
        "\n",
        "a = float(input(\"Enter first number: \"))\n",
        "b = float(input(\"Enter second number: \"))\n",
        "\n",
        "addition = a + b\n",
        "subtraction = a - b\n",
        "multiplication = a * b\n",
        "division = a / b\n",
        "floor_division = a // b\n",
        "modulus = a % b\n",
        "exponentiation = a ** b\n",
        "\n",
        "print(\"Addition: \",addition)\n",
        "print(\"Subtraction:\",subtraction)\n",
        "print(\"Multiplication:\",multiplication)\n",
        "print(\"Division:\",division)\n",
        "print(\"Floor Division:\",floor_division)\n",
        "print(\"Modulus:\",modulus)\n",
        "print(\"Exponentiation: \",exponentiation)\n"
      ],
      "metadata": {
        "colab": {
          "base_uri": "https://localhost:8080/"
        },
        "id": "14_lMfjJ204S",
        "outputId": "7bdd2942-ee34-4bca-edb0-8bff53b94a87"
      },
      "execution_count": null,
      "outputs": [
        {
          "output_type": "stream",
          "name": "stdout",
          "text": [
            "Enter first number: 7\n",
            "Enter second number: 3\n",
            "Addition:  10.0\n",
            "Subtraction: 4.0\n",
            "Multiplication: 21.0\n",
            "Division: 2.3333333333333335\n",
            "Floor Division: 2.0\n",
            "Modulus: 1.0\n",
            "Exponentiation:  343.0\n"
          ]
        }
      ]
    },
    {
      "cell_type": "code",
      "source": [
        "#3.area of a triangle\n",
        "\n",
        "b = float(input(\"Enter base : \"))\n",
        "h= float(input(\"Enter height : \"))\n",
        "\n",
        "area = 0.5 * b * h\n",
        "\n",
        "print(\"area of triangle :\", area)\n"
      ],
      "metadata": {
        "colab": {
          "base_uri": "https://localhost:8080/"
        },
        "id": "36VV8wU9TUsw",
        "outputId": "27360d72-0b9a-4336-948a-d683d7be21ec"
      },
      "execution_count": null,
      "outputs": [
        {
          "output_type": "stream",
          "name": "stdout",
          "text": [
            "Enter the base : 7\n",
            "Enter the height : 3\n",
            "The area of the triangle is: 10.5\n"
          ]
        }
      ]
    },
    {
      "cell_type": "code",
      "source": [
        "#4.quadratic equation\n",
        "\n",
        "import cmath  # Importing the cmath module to handle complex square roots\n",
        "\n",
        "# Input coefficients a, b, and c\n",
        "a = float(input('Enter a: '))\n",
        "b = float(input('Enter b: '))\n",
        "c = float(input('Enter c: '))\n",
        "\n",
        "# Calculate the discriminant\n",
        "d = (b**2) - (4*a*c)\n",
        "\n",
        "# Find two solutions (handling complex roots with cmath)\n",
        "x = (-b - cmath.sqrt(d)) / (2*a)\n",
        "y = (-b + cmath.sqrt(d)) / (2*a)\n",
        "\n",
        "\n",
        "print('The solutions are {0} and {1}'.format(x, y))"
      ],
      "metadata": {
        "colab": {
          "base_uri": "https://localhost:8080/"
        },
        "id": "5cHD0spzTzzE",
        "outputId": "d7fd42ca-4e1b-47e1-839d-a69c48062740"
      },
      "execution_count": null,
      "outputs": [
        {
          "output_type": "stream",
          "name": "stdout",
          "text": [
            "Enter a: 7\n",
            "Enter b: 3\n",
            "Enter c: 5\n",
            "The solutions are (-0.21428571428571427-0.817537367304257j) and (-0.21428571428571427+0.817537367304257j)\n"
          ]
        }
      ]
    },
    {
      "cell_type": "code",
      "source": [
        "#5.swap two variables\n",
        "\n",
        "M = input(\"Enter  value  M: \")\n",
        "S = input(\"Enter  value  S: \")\n",
        "\n",
        "M, S = S, M\n",
        "\n",
        "print(\"After swapping:\")\n",
        "print(\"M =\", M)\n",
        "print(\"S =\", S)"
      ],
      "metadata": {
        "colab": {
          "base_uri": "https://localhost:8080/"
        },
        "id": "un4uryz8XgGc",
        "outputId": "6e2458db-b5b6-4ebb-a253-ee16dc50296c"
      },
      "execution_count": null,
      "outputs": [
        {
          "output_type": "stream",
          "name": "stdout",
          "text": [
            "Enter the value of M: 7\n",
            "Enter the value of S: 3\n",
            "After swapping:\n",
            "M = 3\n",
            "S = 7\n"
          ]
        }
      ]
    },
    {
      "cell_type": "code",
      "source": [
        "#6.Generate a Random Number\n",
        "\n",
        "import random\n",
        "\n",
        "random_number = random.randint(1, 100)\n",
        "\n",
        "print(\"Random number:\", random_number)"
      ],
      "metadata": {
        "colab": {
          "base_uri": "https://localhost:8080/"
        },
        "id": "mQr7o2OIa9Sx",
        "outputId": "4dc72dfa-1cd2-4e15-dd57-ae416f673017"
      },
      "execution_count": null,
      "outputs": [
        {
          "output_type": "stream",
          "name": "stdout",
          "text": [
            "Random number: 5\n"
          ]
        }
      ]
    },
    {
      "cell_type": "code",
      "source": [
        "#7.convert kilometers to miles\n",
        "\n",
        "km = float(input(\"Enter the distance in km: \"))\n",
        "\n",
        "# Conversion factor\n",
        "CF = 0.621371\n",
        "\n",
        "m = km * CF\n",
        "\n",
        "print(f\"{km} kilometers is equal to {m} miles\")"
      ],
      "metadata": {
        "colab": {
          "base_uri": "https://localhost:8080/"
        },
        "id": "KJDc6ul8d0be",
        "outputId": "2e5e1a7e-770b-4560-f45d-e00cb722fb89"
      },
      "execution_count": null,
      "outputs": [
        {
          "output_type": "stream",
          "name": "stdout",
          "text": [
            "Enter the distance in km: 7\n",
            "7.0 kilometers is equal to 4.349597 miles\n"
          ]
        }
      ]
    },
    {
      "cell_type": "code",
      "source": [
        "#8.convert Celsius to Fahrenheit\n",
        "\n",
        "c = float(input(\"Enter temperature in Celsius: \"))\n",
        "\n",
        "f = ( 9/5 * c ) + 32\n",
        "\n",
        "print(f\"{c}°C is equal to {f}°F\")\n"
      ],
      "metadata": {
        "colab": {
          "base_uri": "https://localhost:8080/"
        },
        "id": "ObiNIKs9erww",
        "outputId": "a0e9eddf-7de6-425e-c510-df2beca065fc"
      },
      "execution_count": null,
      "outputs": [
        {
          "output_type": "stream",
          "name": "stdout",
          "text": [
            "Enter temperature in Celsius: 7\n",
            "7.0°C is equal to 44.6°F\n"
          ]
        }
      ]
    },
    {
      "cell_type": "code",
      "source": [
        "#9.display calendar\n",
        "\n",
        "import calendar\n",
        "\n",
        "yy = int(input(\"Enter year: \")) #yy = 2000\n",
        "mm = int(input(\"Enter month: \")) #mm = 10\n",
        "\n",
        "print(calendar.month(yy, mm))"
      ],
      "metadata": {
        "colab": {
          "base_uri": "https://localhost:8080/"
        },
        "id": "q2DYvdBOf6rx",
        "outputId": "20edca5e-9f6b-4e20-eb5e-3ef5547348fd"
      },
      "execution_count": null,
      "outputs": [
        {
          "output_type": "stream",
          "name": "stdout",
          "text": [
            "Enter year: 2000\n",
            "Enter month: 10\n",
            "    October 2000\n",
            "Mo Tu We Th Fr Sa Su\n",
            "                   1\n",
            " 2  3  4  5  6  7  8\n",
            " 9 10 11 12 13 14 15\n",
            "16 17 18 19 20 21 22\n",
            "23 24 25 26 27 28 29\n",
            "30 31\n",
            "\n"
          ]
        }
      ]
    },
    {
      "cell_type": "code",
      "source": [
        "#10.check if a Number is Positive, Negative or Zero\n",
        "\n",
        "def check_number(num):\n",
        "    if num > 0:\n",
        "        print(\"is a Positive number\",num)\n",
        "    elif num < 0:\n",
        "        print(\"is a Negative number\",num)\n",
        "    else:\n",
        "        print(\"The number is Zero.\")\n",
        "\n",
        "number = float(input(\"Enter  number: \"))\n",
        "\n",
        "# Call the function\n",
        "check_number(number)"
      ],
      "metadata": {
        "colab": {
          "base_uri": "https://localhost:8080/"
        },
        "id": "rbKf00nqhJR6",
        "outputId": "966ab8e5-44af-4d9e-ed24-833d944a7ebf"
      },
      "execution_count": null,
      "outputs": [
        {
          "output_type": "stream",
          "name": "stdout",
          "text": [
            "Enter  number: 7\n",
            "7.0 is a Positive number.\n"
          ]
        }
      ]
    },
    {
      "cell_type": "code",
      "source": [
        "#11.check if a Number is Odd or Even\n",
        "\n",
        "num = int(input(\"Enter number: \"))\n",
        "if num % 2 == 0:\n",
        "    print(\"Even\",{num} )\n",
        "else:\n",
        "    print(\"Odd\",num)"
      ],
      "metadata": {
        "colab": {
          "base_uri": "https://localhost:8080/"
        },
        "id": "cvy52FkfiodO",
        "outputId": "aea8afba-b9a7-4863-bc0c-5a0654786c5f"
      },
      "execution_count": null,
      "outputs": [
        {
          "output_type": "stream",
          "name": "stdout",
          "text": [
            "Enter number: 7\n",
            "Odd 7\n"
          ]
        }
      ]
    },
    {
      "cell_type": "code",
      "source": [
        "#12.check Leap Year\n",
        "\n",
        "year = int(input(\"Enter a year: \"))\n",
        "if (year % 4 == 0 and year % 100 != 0) or (year % 400 == 0):\n",
        "    print(\"is a Leap Year.\",year)\n",
        "else:\n",
        "    print(\"is not a Leap Year.\",year)"
      ],
      "metadata": {
        "colab": {
          "base_uri": "https://localhost:8080/"
        },
        "id": "xjh_0mPLkR39",
        "outputId": "a4c313a1-f421-4342-f620-89ea33ebee5a"
      },
      "execution_count": null,
      "outputs": [
        {
          "output_type": "stream",
          "name": "stdout",
          "text": [
            "Enter a year: 2000\n",
            "is a Leap Year. 2000\n"
          ]
        }
      ]
    },
    {
      "cell_type": "code",
      "source": [
        "#13.check Prime Number\n",
        "\n",
        "num = int(input(\"Enter number: \"))\n",
        "if num > 1:\n",
        "    for i in range(2, int(num ** 0.5) + 1):\n",
        "        if num % i == 0:\n",
        "            print(\"is not a Prime number.\",num)\n",
        "            break\n",
        "    else:\n",
        "        print(\"is a Prime number.\",num)\n",
        "else:\n",
        "    print(\"is not a Prime number.\",num)"
      ],
      "metadata": {
        "colab": {
          "base_uri": "https://localhost:8080/"
        },
        "id": "i8B08dXVkwV0",
        "outputId": "d668f0b3-00f0-467f-a777-a92d8ba97b7e"
      },
      "execution_count": null,
      "outputs": [
        {
          "output_type": "stream",
          "name": "stdout",
          "text": [
            "Enter number: 7\n",
            "is a Prime number. 7\n"
          ]
        }
      ]
    },
    {
      "cell_type": "code",
      "source": [
        "#14.print all Prime Numbers in an Interval\n",
        "\n",
        "start = int(input(\"Enter start of interval: \"))\n",
        "end = int(input(\"Enter end of interval: \"))\n",
        "\n",
        "for num in range(start, end + 1):\n",
        "    if num > 1:\n",
        "        for i in range(2, int(num ** 0.5) + 1):\n",
        "            if num % i == 0:\n",
        "                break\n",
        "        else:\n",
        "            print(num)"
      ],
      "metadata": {
        "colab": {
          "base_uri": "https://localhost:8080/"
        },
        "id": "xCL__11blPv1",
        "outputId": "3e1c9c89-93b4-49d2-f05c-21fb573f6f21"
      },
      "execution_count": null,
      "outputs": [
        {
          "output_type": "stream",
          "name": "stdout",
          "text": [
            "Enter start of interval: 7\n",
            "Enter end of interval: 37\n",
            "7\n",
            "11\n",
            "13\n",
            "17\n",
            "19\n",
            "23\n",
            "29\n",
            "31\n",
            "37\n"
          ]
        }
      ]
    },
    {
      "cell_type": "code",
      "source": [
        "#15.Find the Factorial of a Number\n",
        "\n",
        "def factorial(n):\n",
        "    return 1 if n == 0 else n * factorial(n-1)\n",
        "\n",
        "num = int(input(\"Enter number: \"))\n",
        "print(f\"Factorial of {num} is {factorial(num)}.\")"
      ],
      "metadata": {
        "colab": {
          "base_uri": "https://localhost:8080/"
        },
        "id": "t6r_IXCHng3L",
        "outputId": "0e87ccb4-1ec2-4ea9-959e-f790e1a20d2a"
      },
      "execution_count": null,
      "outputs": [
        {
          "output_type": "stream",
          "name": "stdout",
          "text": [
            "Enter number: 7\n",
            "Factorial of 7 is 5040.\n"
          ]
        }
      ]
    },
    {
      "cell_type": "code",
      "source": [
        "#16.display the Multiplication Table\n",
        "\n",
        "num = int(input(\"Enter number: \"))\n",
        "for i in range(1, 11):\n",
        "    print(f\"{num} x {i} = {num * i}\")"
      ],
      "metadata": {
        "colab": {
          "base_uri": "https://localhost:8080/"
        },
        "id": "QVX3stNKrW0r",
        "outputId": "77c105d1-84a6-40d3-d0af-bf9588141ca4"
      },
      "execution_count": null,
      "outputs": [
        {
          "output_type": "stream",
          "name": "stdout",
          "text": [
            "Enter a number: 7\n",
            "7 x 1 = 7\n",
            "7 x 2 = 14\n",
            "7 x 3 = 21\n",
            "7 x 4 = 28\n",
            "7 x 5 = 35\n",
            "7 x 6 = 42\n",
            "7 x 7 = 49\n",
            "7 x 8 = 56\n",
            "7 x 9 = 63\n",
            "7 x 10 = 70\n"
          ]
        }
      ]
    },
    {
      "cell_type": "code",
      "source": [
        "#17.print the Fibonacci Sequence\n",
        "\n",
        "n = int(input(\"Enter the number of terms: \"))\n",
        "a, b = 0, 1\n",
        "for _ in range(n):\n",
        "    print(a, end=' ')\n",
        "    a, b = b, a + b"
      ],
      "metadata": {
        "colab": {
          "base_uri": "https://localhost:8080/"
        },
        "id": "Wk6JPFuMsVoA",
        "outputId": "fde912fb-58d0-4c9b-a7c5-8bb02b57238e"
      },
      "execution_count": null,
      "outputs": [
        {
          "output_type": "stream",
          "name": "stdout",
          "text": [
            "Enter the number of terms: 9\n",
            "0 1 1 2 3 5 8 13 21 "
          ]
        }
      ]
    },
    {
      "cell_type": "code",
      "source": [
        "#18.Check Armstrong Number\n",
        "\n",
        "num = int(input(\"Enter a number: \"))\n",
        "order = len(str(num))\n",
        "sum_of_digits = sum(int(digit) ** order for digit in str(num))\n",
        "\n",
        "if num == sum_of_digits:\n",
        "    print(f\"{num} is an Armstrong number.\")\n",
        "else:\n",
        "    print(f\"{num} is not an Armstrong number.\")"
      ],
      "metadata": {
        "colab": {
          "base_uri": "https://localhost:8080/"
        },
        "id": "mEVxytGksg2j",
        "outputId": "bdf78505-609c-4620-af36-aa31a2a0db87"
      },
      "execution_count": null,
      "outputs": [
        {
          "output_type": "stream",
          "name": "stdout",
          "text": [
            "Enter a number: 41\n",
            "41 is not an Armstrong number.\n"
          ]
        }
      ]
    },
    {
      "cell_type": "code",
      "source": [
        "#19.find Armstrong Numbers in an Interval\n",
        "\n",
        "start = int(input(\"Enter start of interval: \"))\n",
        "end = int(input(\"Enter end of interval: \"))\n",
        "\n",
        "for num in range(start, end + 1):\n",
        "    order = len(str(num))\n",
        "    if num == sum(int(digit) ** order for digit in str(num)):\n",
        "        print(num)"
      ],
      "metadata": {
        "colab": {
          "base_uri": "https://localhost:8080/"
        },
        "id": "yzv1IHaos28r",
        "outputId": "90f9edd0-67b1-498d-dfbe-466300cd855d"
      },
      "execution_count": null,
      "outputs": [
        {
          "output_type": "stream",
          "name": "stdout",
          "text": [
            "Enter start of interval: 7\n",
            "Enter end of interval: 47\n",
            "7\n",
            "8\n",
            "9\n"
          ]
        }
      ]
    },
    {
      "cell_type": "code",
      "source": [
        "#20.Find the Sum of Natural Numbers\n",
        "\n",
        "n = int(input(\"Enter a number: \"))\n",
        "sum_n = n * (n + 1) // 2\n",
        "print(f\"Sum of first {n} natural numbers is {sum_n}.\")"
      ],
      "metadata": {
        "colab": {
          "base_uri": "https://localhost:8080/"
        },
        "id": "qOyc6ZRktH3c",
        "outputId": "708266ad-8f4b-46e7-8e38-b3050dc3a5e0"
      },
      "execution_count": null,
      "outputs": [
        {
          "output_type": "stream",
          "name": "stdout",
          "text": [
            "Enter a number: 7\n",
            "Sum of first 7 natural numbers is 28.\n"
          ]
        }
      ]
    },
    {
      "cell_type": "code",
      "source": [
        "#21.Print Reverse of a String\n",
        "\n",
        "string = input(\"Enter a string: \")\n",
        "print(f\"Reversed string is: {string[::-1]}\")"
      ],
      "metadata": {
        "colab": {
          "base_uri": "https://localhost:8080/"
        },
        "id": "XgT5e2-ktVVr",
        "outputId": "c3a04e1c-c10f-4a71-8f01-86ed91e2c738"
      },
      "execution_count": null,
      "outputs": [
        {
          "output_type": "stream",
          "name": "stdout",
          "text": [
            "Enter a string: Musfiqur Shakib\n",
            "Reversed string is: bikahS ruqifsuM\n"
          ]
        }
      ]
    },
    {
      "cell_type": "code",
      "source": [
        "#22.Print Sum of First Ten Natural Numbers\n",
        "\n",
        "print(f\"Sum of first 10 natural numbers is {sum(range(1, 11))}.\")"
      ],
      "metadata": {
        "colab": {
          "base_uri": "https://localhost:8080/"
        },
        "id": "DQX4k3o8tkXD",
        "outputId": "3e659aa7-4d5e-4017-e049-2c9336ec7aca"
      },
      "execution_count": null,
      "outputs": [
        {
          "output_type": "stream",
          "name": "stdout",
          "text": [
            "Sum of first 10 natural numbers is 55.\n"
          ]
        }
      ]
    },
    {
      "cell_type": "code",
      "source": [
        "#23.7Find LCM\n",
        "\n",
        "import math\n",
        "def lcm(a, b):\n",
        "    return abs(a*b) // math.gcd(a, b)\n",
        "\n",
        "x = int(input(\"Enter first number: \"))\n",
        "y = int(input(\"Enter second number: \"))\n",
        "print(f\"LCM of {x} and {y} is {lcm(x, y)}.\")"
      ],
      "metadata": {
        "colab": {
          "base_uri": "https://localhost:8080/"
        },
        "id": "wqWlC39uvgia",
        "outputId": "f119c4cc-4170-45e8-cf54-0bcdd6f0fc83"
      },
      "execution_count": null,
      "outputs": [
        {
          "output_type": "stream",
          "name": "stdout",
          "text": [
            "Enter first number: 3\n",
            "Enter second number: 7\n",
            "LCM of 3 and 7 is 21.\n"
          ]
        }
      ]
    },
    {
      "cell_type": "code",
      "source": [
        "#24.Find HCF\n",
        "\n",
        "import math  # Import the math module\n",
        "x = int(input(\"Enter first number: \"))\n",
        "y = int(input(\"Enter second number: \"))\n",
        "print(f\"HCF of {x} and {y} is {math.gcd(x, y)}.\")"
      ],
      "metadata": {
        "colab": {
          "base_uri": "https://localhost:8080/"
        },
        "id": "9IJrUUYi3xnm",
        "outputId": "b231e2af-410a-4bd9-a009-f54c93d2a4b2"
      },
      "execution_count": null,
      "outputs": [
        {
          "output_type": "stream",
          "name": "stdout",
          "text": [
            "Enter first number: 7\n",
            "Enter second number: 3\n",
            "HCF of 7 and 3 is 1.\n"
          ]
        }
      ]
    },
    {
      "cell_type": "code",
      "source": [
        "#25.Convert Decimal to Binary, Octal, and Hexadecimal\n",
        "\n",
        "num = int(input(\"Enter a decimal number: \"))\n",
        "print(f\"Binary: {bin(num)[2:]}\")\n",
        "print(f\"Octal: {oct(num)[2:]}\")\n",
        "print(f\"Hexadecimal: {hex(num)[2:]}\")"
      ],
      "metadata": {
        "colab": {
          "base_uri": "https://localhost:8080/"
        },
        "id": "tCay34vq3_ll",
        "outputId": "90088412-cabd-40b4-f573-90fc69315f0a"
      },
      "execution_count": null,
      "outputs": [
        {
          "output_type": "stream",
          "name": "stdout",
          "text": [
            "Enter a decimal number: 703\n",
            "Binary: 1010111111\n",
            "Octal: 1277\n",
            "Hexadecimal: 2bf\n"
          ]
        }
      ]
    },
    {
      "cell_type": "code",
      "source": [
        "#26.Find ASCII value of a Character\n",
        "\n",
        "char = input(\"Enter a character: \")\n",
        "print(f\"ASCII value of '{char}' is {ord(char)}.\")"
      ],
      "metadata": {
        "colab": {
          "base_uri": "https://localhost:8080/"
        },
        "id": "8yNABGF44Pal",
        "outputId": "47f725ba-601a-4a21-82b4-4eb39e9cbabd"
      },
      "execution_count": null,
      "outputs": [
        {
          "output_type": "stream",
          "name": "stdout",
          "text": [
            "Enter a character: S\n",
            "ASCII value of 'S' is 83.\n"
          ]
        }
      ]
    },
    {
      "cell_type": "code",
      "source": [
        "#27.Make a Simple Calculator\n",
        "\n",
        "def add(x, y):\n",
        "    return x + y\n",
        "\n",
        "def subtract(x, y):\n",
        "    return x - y\n",
        "\n",
        "def multiply(x, y):\n",
        "    return x * y\n",
        "\n",
        "def divide(x, y):\n",
        "    return x / y if y != 0 else 'Undefined (cannot divide by zero)'\n",
        "\n",
        "a = float(input(\"Enter first number: \"))\n",
        "b = float(input(\"Enter second number: \"))\n",
        "operation = input(\"Choose operation (+, -, *, /): \")\n",
        "\n",
        "if operation == '+':\n",
        "    print(f\"Result: {add(a, b)}\")\n",
        "elif operation == '-':\n",
        "    print(f\"Result: {subtract(a, b)}\")\n",
        "elif operation == '*':\n",
        "    print(f\"Result: {multiply(a, b)}\")\n",
        "elif operation == '/':\n",
        "    print(f\"Result: {divide(a, b)}\")\n",
        "else:\n",
        "    print(\"Invalid operation!\")\n"
      ],
      "metadata": {
        "colab": {
          "base_uri": "https://localhost:8080/"
        },
        "id": "d_sFyIxN4aqV",
        "outputId": "166bffe7-36d3-4560-976b-3da17f928291"
      },
      "execution_count": null,
      "outputs": [
        {
          "output_type": "stream",
          "name": "stdout",
          "text": [
            "Enter first number: 7\n",
            "Enter second number: 9\n",
            "Choose operation (+, -, *, /): +\n",
            "Result: 16.0\n"
          ]
        }
      ]
    },
    {
      "cell_type": "code",
      "source": [
        "#28.Display Fibonacci Sequence Using Recursion\n",
        "\n",
        "def fibonacci(n):\n",
        "    if n <= 1:\n",
        "        return n\n",
        "    else:\n",
        "        return fibonacci(n-1) + fibonacci(n-2)\n",
        "\n",
        "n_terms = int(input(\"Enter number of terms: \"))\n",
        "for i in range(n_terms):\n",
        "    print(fibonacci(i), end=' ')"
      ],
      "metadata": {
        "colab": {
          "base_uri": "https://localhost:8080/"
        },
        "id": "WmoHnGHL56s1",
        "outputId": "abbb1368-4a03-4a02-d541-c0fe8235cb5a"
      },
      "execution_count": null,
      "outputs": [
        {
          "output_type": "stream",
          "name": "stdout",
          "text": [
            "Enter number of terms: 7\n",
            "0 1 1 2 3 5 8 "
          ]
        }
      ]
    },
    {
      "cell_type": "code",
      "source": [
        "#29.Find Factorial of a Number Using Recursion\n",
        "\n",
        "def factorial(n):\n",
        "    if n == 1 or n == 0:\n",
        "        return 1\n",
        "    else:\n",
        "        return n * factorial(n-1)\n",
        "\n",
        "num = int(input(\"Enter a number: \"))\n",
        "print(f\"Factorial of {num} is {factorial(num)}.\")"
      ],
      "metadata": {
        "colab": {
          "base_uri": "https://localhost:8080/"
        },
        "id": "fwRIEILi6J4a",
        "outputId": "6bc60687-c760-4ef9-8b14-6dec1174387a"
      },
      "execution_count": null,
      "outputs": [
        {
          "output_type": "stream",
          "name": "stdout",
          "text": [
            "Enter a number: 17\n",
            "Factorial of 17 is 355687428096000.\n"
          ]
        }
      ]
    },
    {
      "cell_type": "code",
      "source": [
        "#30.Calculate the Power of a Number\n",
        "\n",
        "def power(base, exp):\n",
        "    return base ** exp\n",
        "\n",
        "base = float(input(\"Enter base: \"))\n",
        "exp = int(input(\"Enter exponent: \"))\n",
        "print(f\"{base} to the power of {exp} is {power(base, exp)}.\")"
      ],
      "metadata": {
        "colab": {
          "base_uri": "https://localhost:8080/"
        },
        "id": "WqHMoE166lHZ",
        "outputId": "c3e77162-2b7c-4d1e-f4e2-d095b5f7ae7f"
      },
      "execution_count": null,
      "outputs": [
        {
          "output_type": "stream",
          "name": "stdout",
          "text": [
            "Enter base: 7.7\n",
            "Enter exponent: 7\n",
            "7.7 to the power of 7 is 1604852.3266853003.\n"
          ]
        }
      ]
    },
    {
      "cell_type": "code",
      "source": [
        "#31.Add Two Matrices\n",
        "\n",
        "matrix1 = [[9, 7], [1, 3]]\n",
        "matrix2 = [[5, 1], [7, 9]]\n",
        "\n",
        "result = [[matrix1[i][j] + matrix2[i][j] for j in range(len(matrix1[0]))] for i in range(len(matrix1))]\n",
        "\n",
        "for row in result:\n",
        "    print(row)"
      ],
      "metadata": {
        "colab": {
          "base_uri": "https://localhost:8080/"
        },
        "id": "WOe3rtOY619t",
        "outputId": "52667e99-63b7-4a98-a2e6-720530e499e3"
      },
      "execution_count": null,
      "outputs": [
        {
          "output_type": "stream",
          "name": "stdout",
          "text": [
            "[14, 8]\n",
            "[8, 12]\n"
          ]
        }
      ]
    },
    {
      "cell_type": "code",
      "source": [
        "#32.Multiply Two Matrices\n",
        "\n",
        "matrix1 = [[3, 2], [3, 4]]\n",
        "matrix2 = [[5, 7], [7, 8]]\n",
        "\n",
        "result = [[0, 0], [0, 0]]\n",
        "\n",
        "\n",
        "for i in range(len(matrix1)):\n",
        "    for j in range(len(matrix2[0])):\n",
        "        for k in range(len(matrix2)):\n",
        "            result[i][j] += matrix1[i][k] * matrix2[k][j]\n",
        "\n",
        "for row in result:\n",
        "    print(row)"
      ],
      "metadata": {
        "colab": {
          "base_uri": "https://localhost:8080/"
        },
        "id": "5oJjNKER7mPk",
        "outputId": "c1dd50eb-90b3-4e94-e6fc-a0f112f8343d"
      },
      "execution_count": null,
      "outputs": [
        {
          "output_type": "stream",
          "name": "stdout",
          "text": [
            "[29, 37]\n",
            "[43, 53]\n"
          ]
        }
      ]
    },
    {
      "cell_type": "code",
      "source": [
        "#33.Transpose a Matrix\n",
        "\n",
        "matrix = [[1, 5, 3], [4, 5, 3], [7, 8, 9]]\n",
        "transpose = [[matrix[j][i] for j in range(len(matrix))] for i in range(len(matrix[0]))]\n",
        "\n",
        "for row in transpose:\n",
        "    print(row)"
      ],
      "metadata": {
        "colab": {
          "base_uri": "https://localhost:8080/"
        },
        "id": "W98pjT2zEIvv",
        "outputId": "fba63f4f-ee35-4469-c444-1435a18e5d6f"
      },
      "execution_count": null,
      "outputs": [
        {
          "output_type": "stream",
          "name": "stdout",
          "text": [
            "[1, 4, 7]\n",
            "[5, 5, 8]\n",
            "[3, 3, 9]\n"
          ]
        }
      ]
    },
    {
      "cell_type": "code",
      "source": [
        "#34.Sort Words in Alphabetic Order\n",
        "\n",
        "sentence = input(\"Enter a sentence: \")\n",
        "words = sentence.split()\n",
        "words.sort()\n",
        "print(\"Sorted words:\", \" \".join(words))"
      ],
      "metadata": {
        "colab": {
          "base_uri": "https://localhost:8080/"
        },
        "id": "i8t93Y7wEhFw",
        "outputId": "dfb1b07d-ae8f-4a86-8b19-3a16ae05e3ea"
      },
      "execution_count": null,
      "outputs": [
        {
          "output_type": "stream",
          "name": "stdout",
          "text": [
            "Enter a sentence: My name is Musfiqur Shakib\n",
            "Sorted words: Musfiqur My Shakib is name\n"
          ]
        }
      ]
    },
    {
      "cell_type": "code",
      "source": [
        "#35.Remove Punctuation From a String\n",
        "\n",
        "import string\n",
        "\n",
        "text = input(\"Enter a string: \")\n",
        "cleaned_text = text.translate(str.maketrans(\"\", \"\", string.punctuation))\n",
        "print(\"String without punctuation:\", cleaned_text)"
      ],
      "metadata": {
        "colab": {
          "base_uri": "https://localhost:8080/"
        },
        "id": "of6aeAe2FGgM",
        "outputId": "4251e163-8056-47d4-cb01-62c243ba595a"
      },
      "execution_count": null,
      "outputs": [
        {
          "output_type": "stream",
          "name": "stdout",
          "text": [
            "Enter a string: My, na.me is Mu.sfiqur S,hakib\n",
            "String without punctuation: My name is Musfiqur Shakib\n"
          ]
        }
      ]
    },
    {
      "cell_type": "code",
      "source": [
        "#36.Convert List to String\n",
        "\n",
        "lst = ['My', 'Name', 'is Shakib']\n",
        "result = \" \".join(lst)\n",
        "print(result)"
      ],
      "metadata": {
        "colab": {
          "base_uri": "https://localhost:8080/"
        },
        "id": "lLhwNXNsFkVg",
        "outputId": "d2964e54-bee0-4cf8-8a44-521aa96f96b1"
      },
      "execution_count": null,
      "outputs": [
        {
          "output_type": "stream",
          "name": "stdout",
          "text": [
            "My Name is Shakib\n"
          ]
        }
      ]
    },
    {
      "cell_type": "code",
      "source": [
        "#37.Convert Int to String\n",
        "\n",
        "num = 739\n",
        "print(\"String representation of number:\", num)"
      ],
      "metadata": {
        "colab": {
          "base_uri": "https://localhost:8080/"
        },
        "id": "bieQUaiSF0B1",
        "outputId": "127b117a-2ddc-41d5-f71f-656e1538c044"
      },
      "execution_count": null,
      "outputs": [
        {
          "output_type": "stream",
          "name": "stdout",
          "text": [
            "String representation of number: 739\n"
          ]
        }
      ]
    },
    {
      "cell_type": "code",
      "source": [
        "#38.Concatenate Two Strings\n",
        "\n",
        "str1 = \"Musfiqur\"\n",
        "str2 = \"Shakib\"\n",
        "result = str1 + str2\n",
        "print(result)"
      ],
      "metadata": {
        "colab": {
          "base_uri": "https://localhost:8080/"
        },
        "id": "o6CwkQY1GLbt",
        "outputId": "1f4b91a8-4ee9-4087-dad9-99a6514b44bd"
      },
      "execution_count": null,
      "outputs": [
        {
          "output_type": "stream",
          "name": "stdout",
          "text": [
            "MusfiqurShakib\n"
          ]
        }
      ]
    },
    {
      "cell_type": "code",
      "source": [
        "#39.Generate a Random String\n",
        "\n",
        "import random\n",
        "import string\n",
        "\n",
        "\n",
        "length = int(input(\"Enter the length of the random string: \"))\n",
        "result = ''.join(random.choice(string.ascii_letters + string.digits) for _ in range(length))\n",
        "print(f\"Random string: {result}\")"
      ],
      "metadata": {
        "colab": {
          "base_uri": "https://localhost:8080/"
        },
        "id": "EriHOsAdGYzi",
        "outputId": "4b7c0370-135d-4595-8dfc-caaa7b3ea89a"
      },
      "execution_count": null,
      "outputs": [
        {
          "output_type": "stream",
          "name": "stdout",
          "text": [
            "Enter the length of the random string: 7\n",
            "Random string: EZgejtU\n"
          ]
        }
      ]
    },
    {
      "cell_type": "code",
      "source": [
        "#40.Check Whether a Given String is a Palindrome or Not\n",
        "\n",
        "a = input(\"Enter string: \")\n",
        "\n",
        "# Normalize the string: convert to lowercase and remove spaces\n",
        "b = a.replace(\" \", \"\").lower()\n",
        "\n",
        "# Check if the normalized string is a palindrome\n",
        "if b == b[::-1]:\n",
        "    print(\"The string is a palindrome.\")\n",
        "else:\n",
        "    print(\"The string is not a palindrome.\")"
      ],
      "metadata": {
        "colab": {
          "base_uri": "https://localhost:8080/"
        },
        "id": "K04ZGHBoYBLC",
        "outputId": "59e501e6-4259-4515-9dc0-5af2d7dd480c"
      },
      "execution_count": null,
      "outputs": [
        {
          "output_type": "stream",
          "name": "stdout",
          "text": [
            "Enter string: Madam\n",
            "The string is a palindrome.\n"
          ]
        }
      ]
    },
    {
      "cell_type": "code",
      "source": [
        "#41Convert the String into Lowercase to Uppercase and Vice Versa\n",
        "\n",
        "string = input(\"Enter a string: \")\n",
        "swapped = string.swapcase()\n",
        "print(f\"Swapped case: {swapped}\")"
      ],
      "metadata": {
        "colab": {
          "base_uri": "https://localhost:8080/"
        },
        "id": "6i0eGlkblNcN",
        "outputId": "0076446c-a0d2-4575-f21d-71655175aacf"
      },
      "execution_count": null,
      "outputs": [
        {
          "output_type": "stream",
          "name": "stdout",
          "text": [
            "Enter a string: My Name is Musfiqur Shakib\n",
            "Swapped case: mY nAME IS mUSFIQUR sHAKIB\n"
          ]
        }
      ]
    },
    {
      "cell_type": "code",
      "source": [
        "#42.Find the Occurrence of a Substring Within a String\n",
        "\n",
        "string = input(\"Enter the main string: \")\n",
        "substring = input(\"Enter the substring to find: \")\n",
        "count = string.count(substring)\n",
        "print(f\"'{substring}' occurs {count} times in the string.\")"
      ],
      "metadata": {
        "colab": {
          "base_uri": "https://localhost:8080/"
        },
        "id": "YJ6UCvZKlex8",
        "outputId": "290e47cd-8f05-4338-9351-56bd9c005592"
      },
      "execution_count": null,
      "outputs": [
        {
          "output_type": "stream",
          "name": "stdout",
          "text": [
            "Enter the main string: My name is Musfiqur Shakib . What is your name?\n",
            "Enter the substring to find: name\n",
            "'name' occurs 2 times in the string.\n"
          ]
        }
      ]
    },
    {
      "cell_type": "code",
      "source": [
        "#43.Append Element in the List\n",
        "\n",
        "lst = [1, 2, 3, 4, 5, 6, 7,8,9,11,13]\n",
        "a = int(input(\"Enter element to append: \"))\n",
        "lst.append(a)\n",
        "print(\"Updated list:\", lst)"
      ],
      "metadata": {
        "colab": {
          "base_uri": "https://localhost:8080/"
        },
        "id": "9VG9qLAemJTL",
        "outputId": "d997eff1-e7d7-4680-ca46-3a6888b0bc65"
      },
      "execution_count": null,
      "outputs": [
        {
          "output_type": "stream",
          "name": "stdout",
          "text": [
            "Enter element to append: 17\n",
            "Updated list: [1, 2, 3, 4, 5, 6, 7, 8, 9, 11, 13, 17]\n"
          ]
        }
      ]
    },
    {
      "cell_type": "code",
      "source": [
        "#44.Compare Two Lists\n",
        "\n",
        "list1 = [1, 5, 3]\n",
        "list2 = [1, 5, 3]\n",
        "\n",
        "if list1 == list2:\n",
        "    print(\"Both lists are equal.\")\n",
        "else:\n",
        "    print(\"Lists are not equal.\")"
      ],
      "metadata": {
        "colab": {
          "base_uri": "https://localhost:8080/"
        },
        "id": "KQX1YOZYmZIT",
        "outputId": "1f4efeb2-a2ee-4801-9be0-5e33081ca4fe"
      },
      "execution_count": null,
      "outputs": [
        {
          "output_type": "stream",
          "name": "stdout",
          "text": [
            "Both lists are equal.\n"
          ]
        }
      ]
    },
    {
      "cell_type": "code",
      "source": [
        "#45.Convert List to Dictionary\n",
        "\n",
        "keys = ['Name', 'Age', 'City']\n",
        "values = ['Musfiqur Shakib', 23, 'Uttara ,Dhaka']\n",
        "\n",
        "dictionary = dict(zip(keys, values))#mapping the keys and values in the dictionary\n",
        "print(\"Converted dictionary:\", dictionary)"
      ],
      "metadata": {
        "colab": {
          "base_uri": "https://localhost:8080/"
        },
        "id": "xgNpFP7Wmnfa",
        "outputId": "f7d42511-5b4c-4a83-f5b5-b63f7f2eedab"
      },
      "execution_count": null,
      "outputs": [
        {
          "output_type": "stream",
          "name": "stdout",
          "text": [
            "Converted dictionary: {'Name': 'Musfiqur Shakib', 'Age': 23, 'City': 'Uttara ,Dhaka'}\n"
          ]
        }
      ]
    },
    {
      "cell_type": "code",
      "source": [
        "#46.Remove an Element from a List\n",
        "\n",
        "lst = [1, 3, 5,7 ,9]\n",
        "a = int(input(\"Enter element to remove: \"))\n",
        "lst.remove(a)\n",
        "print(\"Updated list:\", lst)"
      ],
      "metadata": {
        "colab": {
          "base_uri": "https://localhost:8080/"
        },
        "id": "21fJZcN7m72p",
        "outputId": "a4379e77-57fa-4c4c-bc1a-77a5c11807d1"
      },
      "execution_count": null,
      "outputs": [
        {
          "output_type": "stream",
          "name": "stdout",
          "text": [
            "Enter element to remove: 5\n",
            "Updated list: [1, 3, 7, 9]\n"
          ]
        }
      ]
    },
    {
      "cell_type": "code",
      "source": [
        "#47.Add Two Lists\n",
        "\n",
        "list1 = [1,3,5,7,9 ]\n",
        "list2 = [11,13,15,17,19]\n",
        "\n",
        "result = list1 + list2#join or adding to list into new one\n",
        "print(\"Combined list:\", result)"
      ],
      "metadata": {
        "colab": {
          "base_uri": "https://localhost:8080/"
        },
        "id": "Tjje648snMP4",
        "outputId": "1d81d842-9e7c-4a37-adb3-283ce420820f"
      },
      "execution_count": null,
      "outputs": [
        {
          "output_type": "stream",
          "name": "stdout",
          "text": [
            "Combined list: [1, 3, 5, 7, 9, 11, 13, 15, 17, 19]\n"
          ]
        }
      ]
    },
    {
      "cell_type": "code",
      "source": [
        "#48.Convert List to Set\n",
        "\n",
        "list = [1, 3,   5, 7,9]\n",
        "set_result = set(list)\n",
        "print(\"Converted set:\", set_result)"
      ],
      "metadata": {
        "colab": {
          "base_uri": "https://localhost:8080/"
        },
        "id": "5ZXoAkYZne-7",
        "outputId": "f396911e-70b1-4bb5-f43b-bdefc32a09c2"
      },
      "execution_count": null,
      "outputs": [
        {
          "output_type": "stream",
          "name": "stdout",
          "text": [
            "Converted set: {1, 3, 5, 7, 9}\n"
          ]
        }
      ]
    },
    {
      "cell_type": "code",
      "source": [
        "#49.Convert List to String\n",
        "\n",
        "list = ['My', 'name', 'is' , 'Shakib']\n",
        "result = \" \".join(list)\n",
        "print(\"Converted string:\", result)"
      ],
      "metadata": {
        "colab": {
          "base_uri": "https://localhost:8080/"
        },
        "id": "2GxI_pV6nzDq",
        "outputId": "55fd2a1a-d930-47e0-fbf1-33c299f7ade4"
      },
      "execution_count": null,
      "outputs": [
        {
          "output_type": "stream",
          "name": "stdout",
          "text": [
            "Converted string: My name is Shakib\n"
          ]
        }
      ]
    },
    {
      "cell_type": "code",
      "source": [
        "a = [1, 2, 2, 3, 4, 4, 5, 5, 6]\n",
        "b = list(set(a))  # Convert to set to remove duplicates\n",
        "print(\"List after removing duplicates:\", b)\n"
      ],
      "metadata": {
        "colab": {
          "base_uri": "https://localhost:8080/"
        },
        "id": "Etpapdw-1UV9",
        "outputId": "217918b3-6177-45d6-9546-199beef38dc8"
      },
      "execution_count": null,
      "outputs": [
        {
          "output_type": "stream",
          "name": "stdout",
          "text": [
            "List after removing duplicates: [1, 2, 3, 4, 5, 6]\n"
          ]
        }
      ]
    }
  ]
}